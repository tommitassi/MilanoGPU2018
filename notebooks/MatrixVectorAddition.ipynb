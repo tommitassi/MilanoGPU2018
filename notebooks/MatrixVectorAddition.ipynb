{
 "cells": [
  {
   "cell_type": "markdown",
   "metadata": {},
   "source": [
    "# License\n",
    "\n",
    "    Jupyter notebook for accessing CUDA\n",
    "    Copyright (C) 2018 Andre.Brodtkorb@ifi.uio.no\n",
    "\n",
    "    This program is free software: you can redistribute it and/or modify\n",
    "    it under the terms of the GNU General Public License as published by\n",
    "    the Free Software Foundation, either version 3 of the License, or\n",
    "    (at your option) any later version.\n",
    "\n",
    "    This program is distributed in the hope that it will be useful,\n",
    "    but WITHOUT ANY WARRANTY; without even the implied warranty of\n",
    "    MERCHANTABILITY or FITNESS FOR A PARTICULAR PURPOSE.  See the\n",
    "    GNU General Public License for more details.\n",
    "\n",
    "    You should have received a copy of the GNU General Public License\n",
    "    along with this program.  If not, see <http://www.gnu.org/licenses/>."
   ]
  },
  {
   "cell_type": "code",
   "execution_count": 1,
   "metadata": {},
   "outputs": [],
   "source": [
    "#Lets have matplotlib \"inline\"\n",
    "%matplotlib inline\n",
    "\n",
    "#Import packages we need\n",
    "import numpy as np\n",
    "import pycuda.compiler as cuda_compiler\n",
    "from pycuda.gpuarray import GPUArray\n",
    "import pycuda.driver as cuda_driver\n",
    "\n",
    "from matplotlib import pyplot as plt"
   ]
  },
  {
   "cell_type": "code",
   "execution_count": 2,
   "metadata": {},
   "outputs": [],
   "source": [
    "#Initialize CUDA - must be first call to CUDA!\n",
    "cuda_driver.init()"
   ]
  },
  {
   "cell_type": "code",
   "execution_count": 3,
   "metadata": {},
   "outputs": [
    {
     "name": "stdout",
     "output_type": "stream",
     "text": [
      "Using 'Tesla K80'\n",
      " => compute capability: (3, 7)\n",
      " => memory: 10761 / 11441 MB available\n"
     ]
    }
   ],
   "source": [
    "#Create CUDA context\n",
    "cuda_device = cuda_driver.Device(0)\n",
    "print(\"Using '{:s}'\".format(cuda_device.name()))\n",
    "print(\" => compute capability: {:s}\".format(str(cuda_device.compute_capability())))\n",
    "context = cuda_device.make_context()\n",
    "free, total = cuda_driver.mem_get_info()\n",
    "print(\" => memory: {:d} / {:d} MB available\".format(int(free/(1024*1024)), int(total/(1024*1024))))"
   ]
  },
  {
   "cell_type": "code",
   "execution_count": 5,
   "metadata": {},
   "outputs": [],
   "source": [
    "cuda_kernel = \"\"\"\n",
    "__global__ void addVectorKernel(float* c, float* a, float* b) {\n",
    "    unsigned int i = blockIdx.x*blockDim.x + threadIdx.x;\n",
    "    c[i] = a[i] + b[i];\n",
    "}\n",
    "\n",
    "__global__ void addMatrixKernel(float* c, float* a, float* b, int cols) {\n",
    "unsigned int i = blockIdx.x*blockDim.x + threadIdx.x;\n",
    "unsigned int j = blockIdx.y*blockDim.y + threadIdx.y;\n",
    "\n",
    "//Pseudocode\n",
    "//c[j][i] = a[j][i] + b[j][i] (this isn't a command)\n",
    "\n",
    "unsigned int k = j*cols + i;\n",
    "\n",
    "c[k] = a[k] + b[k];\n",
    "}\n",
    "\n",
    "//N0TE: we need to implement the function matrixVectorKernel c=A*b\n",
    "\n",
    "__global__ void matrixVectorKernel(float* c, float* A, float* b, int a_rows, int a_cols) {\n",
    "//NOTE : Write for loop that computes the vector-vector inner product of row j of A by our vector b, and store the result in c[j]\n",
    "// i index is always zero!\n",
    "\n",
    "unsigned int j = blockIdx.y*blockDim.y + threadIdx.y;\n",
    "float sum = 0.0f;\n",
    "for (int i=0; i<a_cols; ++i) {\n",
    "    unsigned int k = j*a_cols + i;\n",
    "    sum += A[k] * b[i];\n",
    "    }\n",
    "c[j] = sum; //better here than inside the for-cycle \n",
    "\n",
    "}\n",
    "\"\"\"\n",
    "module = cuda_compiler.SourceModule(cuda_kernel)\n",
    "kernel = module.get_function(\"matrixVectorKernel\");"
   ]
  },
  {
   "cell_type": "code",
   "execution_count": 7,
   "metadata": {},
   "outputs": [
    {
     "data": {
      "text/plain": [
       "<matplotlib.colorbar.Colorbar at 0x7f5e58f8aef0>"
      ]
     },
     "execution_count": 7,
     "metadata": {},
     "output_type": "execute_result"
    },
    {
     "data": {
      "image/png": "[encoded data removed]",
      "text/plain": [
       "<matplotlib.figure.Figure at 0x7f5e5915e400>"
      ]
     },
     "metadata": {
      "needs_background": "light"
     },
     "output_type": "display_data"
    },
    {
     "data": {
      "image/png": "[encoded data removed]",
      "text/plain": [
       "<matplotlib.figure.Figure at 0x7f5e590978d0>"
      ]
     },
     "metadata": {
      "needs_background": "light"
     },
     "output_type": "display_data"
    },
    {
     "data": {
      "image/png": "[encoded data removed]",
      "text/plain": [
       "<matplotlib.figure.Figure at 0x7f5e5901d780>"
      ]
     },
     "metadata": {
      "needs_background": "light"
     },
     "output_type": "display_data"
    }
   ],
   "source": [
    "testing_variable = np.empty((12,2)).astype(np.float32)\n",
    "plt.figure()\n",
    "plt.imshow(testing_variable)\n",
    "plt.colorbar()\n",
    "\n",
    "testing_variable = np.zeros((12,2), dtype=np.float32)\n",
    "plt.figure()\n",
    "plt.imshow(testing_variable)\n",
    "plt.colorbar()\n",
    "\n",
    "testing_variable = np.ones((12,2))\n",
    "plt.figure()\n",
    "plt.imshow(testing_variable)\n",
    "plt.colorbar()"
   ]
  },
  {
   "cell_type": "code",
   "execution_count": null,
   "metadata": {},
   "outputs": [],
   "source": [
    "#Size of our test\n",
    "test_size = (16, 24)\n",
    "\n",
    "#Create test input / output data\n",
    "a = np.random.random((4,3)).astype(np.float32)\n",
    "b = np.random.random((3,1)).astype(np.float32)\n",
    "c = np.empty((4,1)\n",
    "\n",
    "#fig = plt.figure(figsize=(12,8))\n",
    "#plt.subplot(1,3,1)\n",
    "#plt.imshow(a)\n",
    "#plt.subplot(1,3,2)\n",
    "#plt.imshow(b)\n",
    "#plt.subplot(1,3,3)\n",
    "\n",
    "#fig.show()"
   ]
  },
  {
   "cell_type": "code",
   "execution_count": null,
   "metadata": {},
   "outputs": [],
   "source": [
    "print(a.shape)"
   ]
  },
  {
   "cell_type": "code",
   "execution_count": 26,
   "metadata": {},
   "outputs": [],
   "source": [
    "#Upload data to the device\n",
    "#NOTE: we need to make sure that a=(a_rows,a_columns) and b=(a_columns,1) (column vector) and c(a_rows, 1)\n",
    "a_g = GPUArray(a.shape, np.float32)\n",
    "b_g = GPUArray(b.shape, np.float32)\n",
    "a_g.set(a)\n",
    "b_g.set(b)"
   ]
  },
  {
   "cell_type": "code",
   "execution_count": 27,
   "metadata": {},
   "outputs": [],
   "source": [
    "#Allocate output data\n",
    "c_g = GPUArray(c.shape, np.float32)"
   ]
  },
  {
   "cell_type": "code",
   "execution_count": 36,
   "metadata": {},
   "outputs": [],
   "source": [
    "print(a.shape)\n",
    "print(b.shape)\n",
    "print(c.shape)"
   ]
  },
  {
   "cell_type": "code",
   "execution_count": 36,
   "metadata": {},
   "outputs": [
    {
     "name": "stdout",
     "output_type": "stream",
     "text": [
      "Domain size is (24, 16)\n",
      "Block size is (8, 4, 1)\n",
      "Grid size is (3, 4, 1)\n"
     ]
    }
   ],
   "source": [
    "#a.shape = [rows, columns] => [y, x]\n",
    "domain_size = (a.shape[1], a.shape[0])\n",
    "block_size = (1, 1, 1) #These need to be [x,y,z] (if we use (1,1,1) is simplier)\n",
    "grid_size = (1, c.shape[0], 1)\n",
    "\n",
    "print(\"Domain size is \" + str(domain_size))\n",
    "print(\"Block size is \" + str(block_size))\n",
    "print(\"Grid size is \" + str(grid_size))"
   ]
  },
  {
   "cell_type": "code",
   "execution_count": 37,
   "metadata": {},
   "outputs": [
    {
     "data": {
      "text/plain": [
       "array([[1.1435065 , 1.3815482 , 0.5593269 , 1.4317756 , 1.0279362 ,\n",
       "        1.2108588 , 1.2064086 , 0.6896701 , 0.73531425, 1.209055  ,\n",
       "        1.0205739 , 0.65370846, 1.1099075 , 0.82087773, 1.0538864 ,\n",
       "        0.97043616, 1.3603867 , 1.0559335 , 0.818009  , 0.5449143 ,\n",
       "        1.1970663 , 0.81288624, 0.89512527, 0.9191284 ],\n",
       "       [1.4053857 , 0.8744831 , 1.2753432 , 1.4466269 , 0.8470668 ,\n",
       "        1.6113328 , 0.77195805, 1.3361084 , 0.62177104, 1.0544357 ,\n",
       "        0.8876651 , 1.6911538 , 1.3621072 , 1.2514096 , 0.46288368,\n",
       "        0.8984585 , 1.5048239 , 0.05496078, 0.64149463, 1.0729934 ,\n",
       "        1.4620335 , 1.1332368 , 0.5494485 , 1.009643  ],\n",
       "       [1.2053753 , 0.5695564 , 1.3730165 , 1.4380615 , 0.95759445,\n",
       "        1.7369938 , 0.35504025, 1.0350652 , 0.40009052, 0.6716997 ,\n",
       "        1.1002274 , 1.0949286 , 1.5945591 , 1.2010696 , 1.0188566 ,\n",
       "        0.8005712 , 1.0434023 , 1.3830609 , 0.7513201 , 0.4852447 ,\n",
       "        1.3029376 , 0.6431646 , 1.3319293 , 0.52837276],\n",
       "       [1.0035319 , 0.11656962, 1.4152565 , 0.29809606, 1.2760181 ,\n",
       "        0.9757253 , 1.4950684 , 0.89031994, 0.8107158 , 0.80691445,\n",
       "        0.88441694, 1.1770309 , 0.56564116, 1.140156  , 0.8396869 ,\n",
       "        0.79695016, 1.8972907 , 0.9527799 , 1.1794417 , 0.71418315,\n",
       "        1.608587  , 0.74741745, 0.8477798 , 1.6679945 ],\n",
       "       [0.55628985, 1.2294037 , 1.2368989 , 0.4519822 , 1.8000064 ,\n",
       "        0.50139654, 0.9538518 , 0.9871441 , 1.005756  , 1.7080832 ,\n",
       "        0.9479124 , 0.9262353 , 0.4589628 , 1.1306739 , 0.7118202 ,\n",
       "        1.1753683 , 1.5402001 , 0.7656897 , 0.9956122 , 0.09871855,\n",
       "        1.6349742 , 1.0900233 , 0.7185129 , 0.34558594],\n",
       "       [1.723951  , 1.1401565 , 1.4853826 , 1.0406959 , 1.3562326 ,\n",
       "        1.4222777 , 0.60524076, 0.56883955, 1.1182065 , 0.864337  ,\n",
       "        1.492555  , 0.820148  , 0.6350072 , 1.8495127 , 0.73910964,\n",
       "        0.69470847, 0.91510975, 1.5771756 , 1.2164257 , 0.9193679 ,\n",
       "        1.138104  , 0.5568014 , 0.706866  , 1.2211424 ],\n",
       "       [0.12526691, 1.0063734 , 0.78018147, 0.2708845 , 0.31116346,\n",
       "        1.4906819 , 0.7856648 , 0.73908323, 1.5420955 , 1.3347719 ,\n",
       "        1.581538  , 1.3504847 , 0.917502  , 1.5366538 , 1.5768409 ,\n",
       "        1.1037261 , 1.167552  , 1.942841  , 0.40180284, 1.2680691 ,\n",
       "        0.4451665 , 1.1346395 , 0.20313695, 1.4655267 ],\n",
       "       [1.1854354 , 1.1868918 , 1.2802684 , 1.5789375 , 0.67636347,\n",
       "        1.5401503 , 1.5704157 , 0.97706544, 0.6604516 , 1.2656025 ,\n",
       "        0.8852173 , 1.1603065 , 0.9356847 , 1.0778956 , 1.4188628 ,\n",
       "        1.7172331 , 1.0187888 , 0.70265424, 0.8712027 , 0.43118128,\n",
       "        0.5066396 , 0.39603043, 1.5634837 , 0.76054233],\n",
       "       [1.1266422 , 0.7442052 , 1.3789661 , 0.96411985, 0.7289951 ,\n",
       "        1.608115  , 0.6752763 , 0.6687467 , 0.99013925, 0.87177134,\n",
       "        1.2822862 , 0.95891523, 1.2151475 , 0.94237626, 1.4274831 ,\n",
       "        0.60844123, 1.0594678 , 0.515026  , 0.8520936 , 0.58156693,\n",
       "        0.6236793 , 1.238604  , 1.4090682 , 1.6555095 ],\n",
       "       [1.3122002 , 0.54383117, 0.431686  , 1.3732483 , 0.2683521 ,\n",
       "        0.6979051 , 1.0731604 , 0.9390086 , 1.5239668 , 0.53613454,\n",
       "        1.8237412 , 0.83228946, 1.7599142 , 1.3457572 , 0.9697496 ,\n",
       "        0.61516774, 1.3776011 , 1.2849844 , 1.0473051 , 1.5572174 ,\n",
       "        0.5061237 , 0.8072178 , 1.262815  , 1.4361746 ],\n",
       "       [0.8205968 , 0.37087595, 0.3166806 , 0.6969748 , 0.91159695,\n",
       "        0.9264354 , 0.3027042 , 0.72410333, 1.7703348 , 1.0437092 ,\n",
       "        1.0300552 , 0.9301549 , 0.7714774 , 1.0250117 , 1.1556418 ,\n",
       "        1.0349307 , 1.6273563 , 1.2604123 , 1.0616152 , 1.5170674 ,\n",
       "        1.1536149 , 1.1159422 , 1.6236644 , 0.9437612 ],\n",
       "       [0.75868183, 1.142701  , 1.1393211 , 1.0587324 , 1.5996697 ,\n",
       "        0.83984804, 0.825009  , 0.6811405 , 0.3939039 , 1.653022  ,\n",
       "        1.7531047 , 1.1294494 , 1.560416  , 1.3171666 , 0.9411813 ,\n",
       "        1.1446348 , 1.7428806 , 0.79160357, 1.1645173 , 0.95240724,\n",
       "        1.0725851 , 0.84494656, 0.851459  , 0.9119853 ],\n",
       "       [1.0354195 , 1.0685678 , 0.26217964, 0.8013855 , 1.116122  ,\n",
       "        1.8496503 , 1.2231889 , 1.8018727 , 1.6731062 , 0.4353004 ,\n",
       "        0.30010802, 0.73446476, 1.4402624 , 1.777143  , 1.3255    ,\n",
       "        0.9852028 , 0.95384663, 0.64705974, 1.6678696 , 1.722308  ,\n",
       "        1.6163077 , 1.091281  , 0.3614359 , 0.5320316 ],\n",
       "       [1.7141484 , 1.3966279 , 0.91580224, 1.047033  , 0.4282794 ,\n",
       "        0.6174309 , 1.2508467 , 1.5291333 , 0.67388606, 0.60842806,\n",
       "        0.9185702 , 1.372673  , 0.6777891 , 0.47998464, 1.9249904 ,\n",
       "        0.39220136, 0.20665172, 1.1374016 , 0.42702866, 0.45106012,\n",
       "        1.4347254 , 1.2138618 , 0.9945169 , 1.5666056 ],\n",
       "       [0.49430054, 0.5587639 , 0.83669806, 1.0184002 , 1.6115538 ,\n",
       "        0.85360426, 1.0437284 , 1.1258316 , 0.5658787 , 1.04265   ,\n",
       "        0.82462144, 1.2189529 , 0.5559013 , 0.7044587 , 1.1920319 ,\n",
       "        1.0718118 , 0.3436728 , 1.1066847 , 0.59396887, 1.8219362 ,\n",
       "        1.7353258 , 1.1984333 , 1.6103816 , 0.75366807],\n",
       "       [1.0384334 , 1.0463755 , 0.59529996, 1.4598823 , 1.2266464 ,\n",
       "        1.1159282 , 0.19571593, 0.31786996, 0.5481131 , 1.8426702 ,\n",
       "        0.7950516 , 0.22139607, 0.9866648 , 0.97847044, 0.8315289 ,\n",
       "        0.45097342, 0.9643097 , 1.2987541 , 1.8049154 , 1.538298  ,\n",
       "        0.85354257, 1.2985152 , 0.8784728 , 0.3813726 ]], dtype=float32)"
      ]
     },
     "execution_count": 37,
     "metadata": {},
     "output_type": "execute_result"
    }
   ],
   "source": [
    "#Execute program on device\n",
    "kernel(c_g, a_g, b_g, np.int32(a.shape[0]), np.int32(a.shape[1]), block=block_size, grid=grid_size)\n",
    "\n",
    "#Copy data from device to host\n",
    "c_g.get(c)"
   ]
  },
  {
   "cell_type": "code",
   "execution_count": 38,
   "metadata": {},
   "outputs": [
    {
     "name": "stdout",
     "output_type": "stream",
     "text": [
      "C   =  [[1.1435065  1.3815482  0.5593269  1.4317756  1.0279362  1.2108588\n",
      "  1.2064086  0.6896701  0.73531425 1.209055   1.0205739  0.65370846\n",
      "  1.1099075  0.82087773 1.0538864  0.97043616 1.3603867  1.0559335\n",
      "  0.818009   0.5449143  1.1970663  0.81288624 0.89512527 0.9191284 ]\n",
      " [1.4053857  0.8744831  1.2753432  1.4466269  0.8470668  1.6113328\n",
      "  0.77195805 1.3361084  0.62177104 1.0544357  0.8876651  1.6911538\n",
      "  1.3621072  1.2514096  0.46288368 0.8984585  1.5048239  0.05496078\n",
      "  0.64149463 1.0729934  1.4620335  1.1332368  0.5494485  1.009643  ]\n",
      " [1.2053753  0.5695564  1.3730165  1.4380615  0.95759445 1.7369938\n",
      "  0.35504025 1.0350652  0.40009052 0.6716997  1.1002274  1.0949286\n",
      "  1.5945591  1.2010696  1.0188566  0.8005712  1.0434023  1.3830609\n",
      "  0.7513201  0.4852447  1.3029376  0.6431646  1.3319293  0.52837276]\n",
      " [1.0035319  0.11656962 1.4152565  0.29809606 1.2760181  0.9757253\n",
      "  1.4950684  0.89031994 0.8107158  0.80691445 0.88441694 1.1770309\n",
      "  0.56564116 1.140156   0.8396869  0.79695016 1.8972907  0.9527799\n",
      "  1.1794417  0.71418315 1.608587   0.74741745 0.8477798  1.6679945 ]\n",
      " [0.55628985 1.2294037  1.2368989  0.4519822  1.8000064  0.50139654\n",
      "  0.9538518  0.9871441  1.005756   1.7080832  0.9479124  0.9262353\n",
      "  0.4589628  1.1306739  0.7118202  1.1753683  1.5402001  0.7656897\n",
      "  0.9956122  0.09871855 1.6349742  1.0900233  0.7185129  0.34558594]\n",
      " [1.723951   1.1401565  1.4853826  1.0406959  1.3562326  1.4222777\n",
      "  0.60524076 0.56883955 1.1182065  0.864337   1.492555   0.820148\n",
      "  0.6350072  1.8495127  0.73910964 0.69470847 0.91510975 1.5771756\n",
      "  1.2164257  0.9193679  1.138104   0.5568014  0.706866   1.2211424 ]\n",
      " [0.12526691 1.0063734  0.78018147 0.2708845  0.31116346 1.4906819\n",
      "  0.7856648  0.73908323 1.5420955  1.3347719  1.581538   1.3504847\n",
      "  0.917502   1.5366538  1.5768409  1.1037261  1.167552   1.942841\n",
      "  0.40180284 1.2680691  0.4451665  1.1346395  0.20313695 1.4655267 ]\n",
      " [1.1854354  1.1868918  1.2802684  1.5789375  0.67636347 1.5401503\n",
      "  1.5704157  0.97706544 0.6604516  1.2656025  0.8852173  1.1603065\n",
      "  0.9356847  1.0778956  1.4188628  1.7172331  1.0187888  0.70265424\n",
      "  0.8712027  0.43118128 0.5066396  0.39603043 1.5634837  0.76054233]\n",
      " [1.1266422  0.7442052  1.3789661  0.96411985 0.7289951  1.608115\n",
      "  0.6752763  0.6687467  0.99013925 0.87177134 1.2822862  0.95891523\n",
      "  1.2151475  0.94237626 1.4274831  0.60844123 1.0594678  0.515026\n",
      "  0.8520936  0.58156693 0.6236793  1.238604   1.4090682  1.6555095 ]\n",
      " [1.3122002  0.54383117 0.431686   1.3732483  0.2683521  0.6979051\n",
      "  1.0731604  0.9390086  1.5239668  0.53613454 1.8237412  0.83228946\n",
      "  1.7599142  1.3457572  0.9697496  0.61516774 1.3776011  1.2849844\n",
      "  1.0473051  1.5572174  0.5061237  0.8072178  1.262815   1.4361746 ]\n",
      " [0.8205968  0.37087595 0.3166806  0.6969748  0.91159695 0.9264354\n",
      "  0.3027042  0.72410333 1.7703348  1.0437092  1.0300552  0.9301549\n",
      "  0.7714774  1.0250117  1.1556418  1.0349307  1.6273563  1.2604123\n",
      "  1.0616152  1.5170674  1.1536149  1.1159422  1.6236644  0.9437612 ]\n",
      " [0.75868183 1.142701   1.1393211  1.0587324  1.5996697  0.83984804\n",
      "  0.825009   0.6811405  0.3939039  1.653022   1.7531047  1.1294494\n",
      "  1.560416   1.3171666  0.9411813  1.1446348  1.7428806  0.79160357\n",
      "  1.1645173  0.95240724 1.0725851  0.84494656 0.851459   0.9119853 ]\n",
      " [1.0354195  1.0685678  0.26217964 0.8013855  1.116122   1.8496503\n",
      "  1.2231889  1.8018727  1.6731062  0.4353004  0.30010802 0.73446476\n",
      "  1.4402624  1.777143   1.3255     0.9852028  0.95384663 0.64705974\n",
      "  1.6678696  1.722308   1.6163077  1.091281   0.3614359  0.5320316 ]\n",
      " [1.7141484  1.3966279  0.91580224 1.047033   0.4282794  0.6174309\n",
      "  1.2508467  1.5291333  0.67388606 0.60842806 0.9185702  1.372673\n",
      "  0.6777891  0.47998464 1.9249904  0.39220136 0.20665172 1.1374016\n",
      "  0.42702866 0.45106012 1.4347254  1.2138618  0.9945169  1.5666056 ]\n",
      " [0.49430054 0.5587639  0.83669806 1.0184002  1.6115538  0.85360426\n",
      "  1.0437284  1.1258316  0.5658787  1.04265    0.82462144 1.2189529\n",
      "  0.5559013  0.7044587  1.1920319  1.0718118  0.3436728  1.1066847\n",
      "  0.59396887 1.8219362  1.7353258  1.1984333  1.6103816  0.75366807]\n",
      " [1.0384334  1.0463755  0.59529996 1.4598823  1.2266464  1.1159282\n",
      "  0.19571593 0.31786996 0.5481131  1.8426702  0.7950516  0.22139607\n",
      "  0.9866648  0.97847044 0.8315289  0.45097342 0.9643097  1.2987541\n",
      "  1.8049154  1.538298   0.85354257 1.2985152  0.8784728  0.3813726 ]]\n",
      "Ref =  [[1.1435065  1.3815482  0.5593269  1.4317756  1.0279362  1.2108588\n",
      "  1.2064086  0.6896701  0.73531425 1.209055   1.0205739  0.65370846\n",
      "  1.1099075  0.82087773 1.0538864  0.97043616 1.3603867  1.0559335\n",
      "  0.818009   0.5449143  1.1970663  0.81288624 0.89512527 0.9191284 ]\n",
      " [1.4053857  0.8744831  1.2753432  1.4466269  0.8470668  1.6113328\n",
      "  0.77195805 1.3361084  0.62177104 1.0544357  0.8876651  1.6911538\n",
      "  1.3621072  1.2514096  0.46288368 0.8984585  1.5048239  0.05496078\n",
      "  0.64149463 1.0729934  1.4620335  1.1332368  0.5494485  1.009643  ]\n",
      " [1.2053753  0.5695564  1.3730165  1.4380615  0.95759445 1.7369938\n",
      "  0.35504025 1.0350652  0.40009052 0.6716997  1.1002274  1.0949286\n",
      "  1.5945591  1.2010696  1.0188566  0.8005712  1.0434023  1.3830609\n",
      "  0.7513201  0.4852447  1.3029376  0.6431646  1.3319293  0.52837276]\n",
      " [1.0035319  0.11656962 1.4152565  0.29809606 1.2760181  0.9757253\n",
      "  1.4950684  0.89031994 0.8107158  0.80691445 0.88441694 1.1770309\n",
      "  0.56564116 1.140156   0.8396869  0.79695016 1.8972907  0.9527799\n",
      "  1.1794417  0.71418315 1.608587   0.74741745 0.8477798  1.6679945 ]\n",
      " [0.55628985 1.2294037  1.2368989  0.4519822  1.8000064  0.50139654\n",
      "  0.9538518  0.9871441  1.005756   1.7080832  0.9479124  0.9262353\n",
      "  0.4589628  1.1306739  0.7118202  1.1753683  1.5402001  0.7656897\n",
      "  0.9956122  0.09871855 1.6349742  1.0900233  0.7185129  0.34558594]\n",
      " [1.723951   1.1401565  1.4853826  1.0406959  1.3562326  1.4222777\n",
      "  0.60524076 0.56883955 1.1182065  0.864337   1.492555   0.820148\n",
      "  0.6350072  1.8495127  0.73910964 0.69470847 0.91510975 1.5771756\n",
      "  1.2164257  0.9193679  1.138104   0.5568014  0.706866   1.2211424 ]\n",
      " [0.12526691 1.0063734  0.78018147 0.2708845  0.31116346 1.4906819\n",
      "  0.7856648  0.73908323 1.5420955  1.3347719  1.581538   1.3504847\n",
      "  0.917502   1.5366538  1.5768409  1.1037261  1.167552   1.942841\n",
      "  0.40180284 1.2680691  0.4451665  1.1346395  0.20313695 1.4655267 ]\n",
      " [1.1854354  1.1868918  1.2802684  1.5789375  0.67636347 1.5401503\n",
      "  1.5704157  0.97706544 0.6604516  1.2656025  0.8852173  1.1603065\n",
      "  0.9356847  1.0778956  1.4188628  1.7172331  1.0187888  0.70265424\n",
      "  0.8712027  0.43118128 0.5066396  0.39603043 1.5634837  0.76054233]\n",
      " [1.1266422  0.7442052  1.3789661  0.96411985 0.7289951  1.608115\n",
      "  0.6752763  0.6687467  0.99013925 0.87177134 1.2822862  0.95891523\n",
      "  1.2151475  0.94237626 1.4274831  0.60844123 1.0594678  0.515026\n",
      "  0.8520936  0.58156693 0.6236793  1.238604   1.4090682  1.6555095 ]\n",
      " [1.3122002  0.54383117 0.431686   1.3732483  0.2683521  0.6979051\n",
      "  1.0731604  0.9390086  1.5239668  0.53613454 1.8237412  0.83228946\n",
      "  1.7599142  1.3457572  0.9697496  0.61516774 1.3776011  1.2849844\n",
      "  1.0473051  1.5572174  0.5061237  0.8072178  1.262815   1.4361746 ]\n",
      " [0.8205968  0.37087595 0.3166806  0.6969748  0.91159695 0.9264354\n",
      "  0.3027042  0.72410333 1.7703348  1.0437092  1.0300552  0.9301549\n",
      "  0.7714774  1.0250117  1.1556418  1.0349307  1.6273563  1.2604123\n",
      "  1.0616152  1.5170674  1.1536149  1.1159422  1.6236644  0.9437612 ]\n",
      " [0.75868183 1.142701   1.1393211  1.0587324  1.5996697  0.83984804\n",
      "  0.825009   0.6811405  0.3939039  1.653022   1.7531047  1.1294494\n",
      "  1.560416   1.3171666  0.9411813  1.1446348  1.7428806  0.79160357\n",
      "  1.1645173  0.95240724 1.0725851  0.84494656 0.851459   0.9119853 ]\n",
      " [1.0354195  1.0685678  0.26217964 0.8013855  1.116122   1.8496503\n",
      "  1.2231889  1.8018727  1.6731062  0.4353004  0.30010802 0.73446476\n",
      "  1.4402624  1.777143   1.3255     0.9852028  0.95384663 0.64705974\n",
      "  1.6678696  1.722308   1.6163077  1.091281   0.3614359  0.5320316 ]\n",
      " [1.7141484  1.3966279  0.91580224 1.047033   0.4282794  0.6174309\n",
      "  1.2508467  1.5291333  0.67388606 0.60842806 0.9185702  1.372673\n",
      "  0.6777891  0.47998464 1.9249904  0.39220136 0.20665172 1.1374016\n",
      "  0.42702866 0.45106012 1.4347254  1.2138618  0.9945169  1.5666056 ]\n",
      " [0.49430054 0.5587639  0.83669806 1.0184002  1.6115538  0.85360426\n",
      "  1.0437284  1.1258316  0.5658787  1.04265    0.82462144 1.2189529\n",
      "  0.5559013  0.7044587  1.1920319  1.0718118  0.3436728  1.1066847\n",
      "  0.59396887 1.8219362  1.7353258  1.1984333  1.6103816  0.75366807]\n",
      " [1.0384334  1.0463755  0.59529996 1.4598823  1.2266464  1.1159282\n",
      "  0.19571593 0.31786996 0.5481131  1.8426702  0.7950516  0.22139607\n",
      "  0.9866648  0.97847044 0.8315289  0.45097342 0.9643097  1.2987541\n",
      "  1.8049154  1.538298   0.85354257 1.2985152  0.8784728  0.3813726 ]]\n",
      "Sad =  0.0\n"
     ]
    }
   ],
   "source": [
    "#Compute reference using Numpy\n",
    "c_ref = a + b\n",
    "\n",
    "#Print result\n",
    "print(\"C   = \", c)\n",
    "print(\"Ref = \", c_ref)\n",
    "print(\"Sad = \", np.sum(np.abs(c - c_ref)))"
   ]
  },
  {
   "cell_type": "code",
   "execution_count": 39,
   "metadata": {},
   "outputs": [
    {
     "data": {
      "text/plain": [
       "<matplotlib.image.AxesImage at 0x7f37bc792ba8>"
      ]
     },
     "execution_count": 39,
     "metadata": {},
     "output_type": "execute_result"
    },
    {
     "data": {
      "image/png": "[encoded data removed]",
      "text/plain": [
       "<matplotlib.figure.Figure at 0x7f37bc7557b8>"
      ]
     },
     "metadata": {
      "needs_background": "light"
     },
     "output_type": "display_data"
    }
   ],
   "source": [
    "fig = plt.figure(figsize=(12,8))\n",
    "plt.subplot(1,2,1)\n",
    "plt.imshow(c)\n",
    "plt.subplot(1,2,2)\n",
    "plt.imshow(c_ref)"
   ]
  },
  {
   "cell_type": "code",
   "execution_count": null,
   "metadata": {},
   "outputs": [],
   "source": []
  }
 ],
 "metadata": {
  "kernelspec": {
   "display_name": "Python 3",
   "language": "python",
   "name": "python3"
  },
  "language_info": {
   "codemirror_mode": {
    "name": "ipython",
    "version": 3
   },
   "file_extension": ".py",
   "mimetype": "text/x-python",
   "name": "python",
   "nbconvert_exporter": "python",
   "pygments_lexer": "ipython3",
   "version": "3.6.6"
  }
 },
 "nbformat": 4,
 "nbformat_minor": 2
}
